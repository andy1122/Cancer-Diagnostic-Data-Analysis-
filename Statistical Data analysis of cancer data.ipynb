{
  "cells": [
    {
      "metadata": {
        "_cell_guid": "b1076dfc-b9ad-4769-8c92-a6c4dae69d19",
        "_uuid": "8f2839f25d086af736a60e9eeb907d3b93b6e0e5",
        "trusted": false,
        "collapsed": true
      },
      "cell_type": "code",
      "source": "# This Python 3 environment comes with many helpful analytics libraries installed\n# It is defined by the kaggle/python docker image: https://github.com/kaggle/docker-python\n# For example, here's several helpful packages to load in \n\nimport numpy as np # linear algebra\nimport pandas as pd # data processing, CSV file I/O (e.g. pd.read_csv)\n\n# Input data files are available in the \"../input/\" directory.\n# For example, running this (by clicking run or pressing Shift+Enter) will list the files in the input directory\n\nimport os\nprint(os.listdir(\"../input\"))\n\n# Any results you write to the current directory are saved as output.",
      "execution_count": null,
      "outputs": []
    },
    {
      "metadata": {
        "_cell_guid": "79c7e3d0-c299-4dcb-8224-4455121ee9b0",
        "_uuid": "d629ff2d2480ee46fbb7e2d37f6b5fab8052498a",
        "trusted": false,
        "collapsed": true
      },
      "cell_type": "code",
      "source": "train = pd.read_csv('../input/data.csv')",
      "execution_count": null,
      "outputs": []
    },
    {
      "metadata": {
        "_cell_guid": "1d9b7afa-74dd-4281-a1c9-68ae6a77594f",
        "_uuid": "f59643b259409753bd423afd3756e6f97521aae8",
        "trusted": false,
        "collapsed": true
      },
      "cell_type": "code",
      "source": "train.head()",
      "execution_count": null,
      "outputs": []
    },
    {
      "metadata": {
        "_cell_guid": "69184ba9-aef2-4bfd-82b4-eb57ad97ddc1",
        "_uuid": "ef4b28674c27d03760922ed8ec12b375b626c64d"
      },
      "cell_type": "markdown",
      "source": "## As  these kernel is much focussed on the statistical analysis , but what is a kernel on a kaggle without EDA , lets get some EDA done ."
    },
    {
      "metadata": {
        "_cell_guid": "8624b717-6183-4ba7-96f7-ebb83f662e32",
        "_uuid": "8cc5751e8a328c2b093842b9ede5d60fc4c166c2",
        "trusted": false,
        "collapsed": true
      },
      "cell_type": "code",
      "source": "train.columns ",
      "execution_count": null,
      "outputs": []
    },
    {
      "metadata": {
        "_cell_guid": "99326cb0-2767-44f1-8522-8c605a0e3091",
        "_uuid": "d400be36e8df2faed15d81a1fd9b9fd5722c5c8a",
        "trusted": false,
        "collapsed": true
      },
      "cell_type": "code",
      "source": "train.isnull().sum()",
      "execution_count": null,
      "outputs": []
    },
    {
      "metadata": {
        "_cell_guid": "270fd418-9a88-4502-bfba-36ec4f0a3e62",
        "_uuid": "d6b22c3fb506e41465265601a080ae8faf8352a1"
      },
      "cell_type": "markdown",
      "source": "## The dataset is clean , since there are no missing values , lets look for some outliars "
    },
    {
      "metadata": {
        "_cell_guid": "d8a02457-3660-46d4-af08-cf9427d47d23",
        "_uuid": "b7c13f2a0939b4d66c646c2afaa8274ea9740435",
        "trusted": false,
        "collapsed": true
      },
      "cell_type": "code",
      "source": "train.describe()",
      "execution_count": null,
      "outputs": []
    },
    {
      "metadata": {
        "_cell_guid": "a7745431-3ae3-4c32-981a-0380974fdbac",
        "_uuid": "7f8d14728ea7fe65081eded70a28a72c2e0823cb"
      },
      "cell_type": "markdown",
      "source": "## its difficult to say whether there are some outliars in this dataset since the context of the columns are not so clear . We will explore this more after a while "
    },
    {
      "metadata": {
        "_cell_guid": "3d5594bb-fa95-42c1-aa2f-4527f1b66152",
        "_uuid": "d75d9eb06e086b0ab73f064909e344ef88e0f2ff",
        "trusted": false,
        "collapsed": true
      },
      "cell_type": "code",
      "source": "## since the id and 'Unnamed: 32' are useless we will simply drop them.\ntrain = train.drop(['id' , 'Unnamed: 32'] , axis = 1)",
      "execution_count": null,
      "outputs": []
    },
    {
      "metadata": {
        "_cell_guid": "c4bb1539-8a3b-4bce-a9d8-7f9ec91f6b3f",
        "_uuid": "14953571a3e1f2a31b7e10a214a06dda01c256ac",
        "trusted": false,
        "collapsed": true
      },
      "cell_type": "code",
      "source": "train.head()",
      "execution_count": null,
      "outputs": []
    },
    {
      "metadata": {
        "_cell_guid": "330eb164-93bd-42bd-8fb3-125dee6f87ee",
        "_uuid": "5b07fe6234f10701c890a48648a56a7bebdbe295",
        "trusted": false,
        "collapsed": true
      },
      "cell_type": "code",
      "source": "import matplotlib.pyplot as plt \nplt.figure(figsize = (8,4))\ntrain.diagnosis.value_counts().plot(kind = 'bar')",
      "execution_count": null,
      "outputs": []
    },
    {
      "metadata": {
        "_cell_guid": "43a2d84c-b83d-46d7-a967-43526e53c272",
        "_uuid": "f01ff8830277d449466e56974b8a340cff4a2e18"
      },
      "cell_type": "markdown",
      "source": "## so from the plot it is evident that it is not highly imbalanced it is imbalanced but not so much \n"
    },
    {
      "metadata": {
        "_cell_guid": "fcbd91cb-7d2a-4b8a-b168-434186ec7757",
        "_uuid": "c1a0cb841c240cd1ad132a425e593f24aac7c91e"
      },
      "cell_type": "markdown",
      "source": "## Lets get more statisticaland reinforce our EDA \n## first deal with the outlier problem , just by looking the summary of this dataset it is hard to tell that theree are any exception or not \n## histogram comes to our rescue ."
    },
    {
      "metadata": {
        "_cell_guid": "0c99ddb3-5d19-4fbb-b653-a85738cbd9f6",
        "_uuid": "1a78b47857c62c8b71e5144aecebd6058c6d38ce"
      },
      "cell_type": "markdown",
      "source": "* How many times each value appears in dataset. This description is called the distribution of variable\n* Most common way to represent distribution of varible is histogram that is graph which shows frequency of each value.\n* Frequency = number of times each value appears\n* Example: [1,1,1,1,2,2,2]. Frequency of 1 is four and frequency of 2 is three."
    },
    {
      "metadata": {
        "_cell_guid": "90d9eb62-074b-4d08-8b6e-33fc0f55c76f",
        "_uuid": "41ce554002967ed6cb808f4aab3aa5a07fd8e978",
        "trusted": false,
        "collapsed": true
      },
      "cell_type": "code",
      "source": "m = plt.hist(train[train['diagnosis'] == \"M\"].radius_mean , bins = 30 ,fc = (1,0,0,0.5) , label = 'Malignm')\nb = plt.hist(train[train['diagnosis'] == \"B\"].radius_mean , bins = 30 ,fc = (0,1,0,0.5), label = 'Belignm')\n## fc is the facecolor which will be used to change (R , G , B , A) values , it doesnot affect the \n## transparncy of the histogram \nplt.legend()\nplt.xlabel('Radius mean values')\nplt.ylabel('Frequency')\nplt.title('Histogram of radus mean for being Malignm and Belignm')\nplt.grid('True')\nplt.show()\n",
      "execution_count": null,
      "outputs": []
    },
    {
      "metadata": {
        "_cell_guid": "1114d00d-277c-467b-9cbd-76e559067908",
        "_uuid": "3985cd99c4f90d5d1dbb438736c2ca38ffea5ac4",
        "trusted": false,
        "collapsed": true
      },
      "cell_type": "code",
      "source": "print(type(m))\nprint(m)\nprint(m.index)",
      "execution_count": null,
      "outputs": []
    },
    {
      "metadata": {
        "_cell_guid": "fc276f04-5a53-4b81-ad87-3f8cb49b5ec2",
        "_uuid": "68851deb78d1a796e8a370a1fdc77aaa00432de7",
        "trusted": false,
        "collapsed": true
      },
      "cell_type": "code",
      "source": "## lets write a function to build the histogram for various features of the dataset\n## result : this is the wrong function\ndef fun_hist(feature_list):\n    for i in feature_list:\n        m = plt.hist(train[train['diagnosis'] == \"M\"][i] , bins = 30 , label = 'Malignm')\n        b = plt.hist(train[train['diagnosis'] == \"B\"][i] , bins = 30 ,  label = 'Belignm')\n        plt.xlabel(i)\n        plt.ylabel('Frequency')\n        plt.title('Histogram of features' )",
      "execution_count": null,
      "outputs": []
    },
    {
      "metadata": {
        "collapsed": true,
        "_cell_guid": "e15b078c-9845-4474-b00d-790fcea8c6cb",
        "_uuid": "ee9c7c974c25963b0724b926c09fc09a2c979728",
        "trusted": false
      },
      "cell_type": "code",
      "source": "features = ['texture_mean', 'perimeter_mean',\n       'area_mean', 'smoothness_mean']",
      "execution_count": null,
      "outputs": []
    },
    {
      "metadata": {
        "_cell_guid": "cc0fb069-43d7-4293-a22c-77dccc304cfb",
        "scrolled": true,
        "_uuid": "ff498f62d525f2c56a5de4b59a1b95af8f797093",
        "trusted": false,
        "collapsed": true
      },
      "cell_type": "code",
      "source": "fun_hist(features)",
      "execution_count": null,
      "outputs": []
    },
    {
      "metadata": {
        "_cell_guid": "d1ebe5bb-0001-455d-98d2-bac87707dc4b",
        "_uuid": "f068782d53d8c9a043e0f02ec73163a32304cadf"
      },
      "cell_type": "markdown",
      "source": "## this doesn't turned out what we expected\n## lets try to build the subplot of different histograms https://www.kaggle.com/residentmario/subplots\n"
    },
    {
      "metadata": {
        "_cell_guid": "db4618c0-8037-419c-92c1-8e3899b0735d",
        "_uuid": "90ecd9390401d44ce5f046ac44560ad85725e3f8",
        "trusted": false,
        "collapsed": true
      },
      "cell_type": "code",
      "source": "fig , axarr = plt.subplots(2,1 , figsize = (12,8))\n\ntrain[train['diagnosis'] == 'M']['radius_mean'].plot.hist(ax = axarr[0] , title  ='Hist' , fc = (1,0,0,.5))\ntrain[train['diagnosis'] == 'B']['radius_mean'].plot.hist(ax = axarr[0] , title  ='Hist' , fc=(0,1,0,.5))\nplt.title('hist')\n\ntrain[train['diagnosis'] == 'M']['texture_mean'].plot.hist(ax = axarr[1] , title  ='Hist', fc = (1,0,0,.5) )\ntrain[train['diagnosis'] == 'B']['texture_mean'].plot.hist(ax = axarr[1] , title  ='Hist', fc =(0,1,0,.5) )\nplt.title('rect')",
      "execution_count": null,
      "outputs": []
    },
    {
      "metadata": {
        "collapsed": true,
        "_cell_guid": "ef3529f5-4a3f-4295-877a-c913985e513c",
        "_uuid": "4fa6bd11022b7eecdcc4315a08a69d9c01ae8485",
        "trusted": false
      },
      "cell_type": "code",
      "source": "features =  ['texture_mean', 'perimeter_mean',\n       'area_mean', 'smoothness_mean']",
      "execution_count": null,
      "outputs": []
    },
    {
      "metadata": {
        "_cell_guid": "b761c4bc-6ed8-411e-a7c3-defc52ba9a24",
        "_uuid": "1e208f89b09c7e217ac267f50e00f0feac15588e",
        "trusted": false,
        "collapsed": true
      },
      "cell_type": "code",
      "source": "## lets try to write the function for the same task \n## wrong function \nnrows = len(features)\nfig , axarr = plt.subplots(nrows , 1 , figsize=(12,8))\nfor i in features:     ## seems like i will have to use double for loop \n     for t in range(nrows):        ## which will be inefficient , but that not my primary concern now \n            train[train['diagnosis'] == \"M\"][i].plot.hist(ax = axarr[t] , fc = (1,0,0,.5))\n            train[train['diagnosis'] == \"B\"][i].plot.hist(ax = axarr[t] , fc =(0,1,0,.5))",
      "execution_count": null,
      "outputs": []
    },
    {
      "metadata": {
        "_cell_guid": "d50dd43d-7956-4499-85fb-cd877cb55807",
        "_uuid": "35f631c52ee7f05f9a8003f09cc64c965f5ef8ef"
      },
      "cell_type": "markdown",
      "source": "## this is'nt something which i expected , we will try to get it right ......\n## we will try to solve this issue in the other part of this notebook "
    },
    {
      "metadata": {
        "_cell_guid": "7e30d853-ea07-4993-83ba-f261e6648198",
        "_uuid": "e1b0786f4fefa82bca1ac9dfc9ba38f33162ff75"
      },
      "cell_type": "markdown",
      "source": "## OK , now lets deal with the outliers \n\n* While looking histogram as yok can see there are rare values in bening distribution (green in graph)\n* There values can be errors or rare events.\n* These errors and rare events can be called outliers.\n* Calculating outliers:\n* first we need to calculate first quartile (Q1)(25%)\n* then find IQR(inter quartile range) = Q3-Q1\n* finally compute Q1 - 1.5IQR and Q3 + 1.5IQR\n*Anything outside this range is an outlier\n*lets write the code for bening tumor distribution for feature radius mean"
    },
    {
      "metadata": {
        "_cell_guid": "bc2a3bbf-c120-4012-963d-7342fde70478",
        "_uuid": "dbf6c7826119cf9c0c2f7c2d98bb9244ae296c79",
        "trusted": false,
        "collapsed": true
      },
      "cell_type": "code",
      "source": "## since we donot have any clue about the dataset , we will move forward by statistics \ndata_bening = train[train[\"diagnosis\"] == \"B\"]\ndata_malignant = train[train[\"diagnosis\"] == \"M\"]\ndesc = data_bening.radius_mean.describe()\nQ1 = desc[4]\nQ3 = desc[6]\nIQR = Q3-Q1\nlower_bound = Q1 - 1.5*IQR\nupper_bound = Q3 + 1.5*IQR\nprint(\"Anything outside this range is an outlier: (\", lower_bound ,\",\", upper_bound,\")\")\ndata_bening[data_bening.radius_mean < lower_bound].radius_mean\nprint(\"Outliers: \",data_bening[(data_bening.radius_mean < lower_bound) | (data_bening.radius_mean > upper_bound)].radius_mean.values)",
      "execution_count": null,
      "outputs": []
    },
    {
      "metadata": {
        "_cell_guid": "c38b57c8-f7bb-468c-b170-a45485cefaea",
        "_uuid": "e8a19568a1993fdb6c1e9e80f329bd28f1adab74"
      },
      "cell_type": "markdown",
      "source": "## we can find outliers even from the boxplot\n"
    },
    {
      "metadata": {
        "_cell_guid": "916aa9e1-037a-471a-be44-52144e25473d",
        "_uuid": "89952f8a687bc8e7deff1c0b4f5be6de00106418",
        "trusted": false,
        "collapsed": true
      },
      "cell_type": "code",
      "source": "melted_data = pd.melt(train,id_vars = \"diagnosis\",value_vars = ['radius_mean', 'texture_mean'])\nmelted_data.head()",
      "execution_count": null,
      "outputs": []
    },
    {
      "metadata": {
        "_cell_guid": "2dac907b-6298-4705-b58f-e2b4f43da1ee",
        "_uuid": "46b582acc2ae7dbf1c3a275d3cc3dbac79ec7a4a",
        "trusted": false,
        "collapsed": true
      },
      "cell_type": "code",
      "source": "import seaborn as sns\nplt.figure(figsize = (15,10))\nsns.boxplot(x = \"variable\", y = \"value\", hue=\"diagnosis\",data= melted_data)",
      "execution_count": null,
      "outputs": []
    },
    {
      "metadata": {
        "_cell_guid": "629506c4-757c-4a83-add6-99aa4c122562",
        "_uuid": "6424d20e34effd6cf396cfb8953814964f25d11d"
      },
      "cell_type": "markdown",
      "source": "## we can see the same three outlier values in the radius _mean graph "
    },
    {
      "metadata": {
        "_cell_guid": "6df50cd2-d63a-411c-bd08-90be4be7b873",
        "_uuid": "78da6193fcc367396c9c93cc25febb9e88370652"
      },
      "cell_type": "markdown",
      "source": "## lets see the summary of our dataset\n## Summary \n* Mean\n* Variance: spread of distribution\n* Standart deviation square root of variance\n* Lets look at summary statistics of bening tumor radiance mean"
    },
    {
      "metadata": {
        "_cell_guid": "2da033a2-bfb2-4468-a50e-e7df5273cd86",
        "_uuid": "e5563b267c94d0dd4297193e3caf5c8fa764c720",
        "trusted": false,
        "collapsed": true
      },
      "cell_type": "code",
      "source": "print(\"mean: \",data_bening.radius_mean.mean())\nprint(\"variance: \",data_bening.radius_mean.var())\nprint(\"standart deviation (std): \",data_bening.radius_mean.std())\nprint(\"describe method: \",data_bening.radius_mean.describe())",
      "execution_count": null,
      "outputs": []
    },
    {
      "metadata": {
        "_cell_guid": "83129f86-891f-43f4-a2f6-cb3788f3ee54",
        "_uuid": "1327c0ee1acb3dec2262347e7ff8ebef4229e5b6"
      },
      "cell_type": "markdown",
      "source": "## CDF \n* Cumulative distribution function is the probability that the variable takes a value less than or equal to x. P(X <= x)\n* Lets explain in cdf graph of bening radiues mean\n* in graph, what is P(12 < X)? The answer is 0.5. The probability that the variable takes a values less than or equal to 12(radius mean) is 0.5.\n* You can plot cdf with two different method"
    },
    {
      "metadata": {
        "_cell_guid": "32b22b82-d3a4-44f0-b9a4-52ef8c63ade2",
        "_uuid": "9b9174f8884b58b2f63fc9f59e1ef7cdc994abe7",
        "trusted": false,
        "collapsed": true
      },
      "cell_type": "code",
      "source": "plt.hist(data_bening.radius_mean,bins=50,fc=(0,1,0,0.5),label='Bening',normed = True,cumulative = True)",
      "execution_count": null,
      "outputs": []
    },
    {
      "metadata": {
        "_cell_guid": "84731ec3-b980-4d04-af24-c97b739a183b",
        "_uuid": "2777b0c98c279b9fe7f817c669bb527f1f111845",
        "trusted": false,
        "collapsed": true
      },
      "cell_type": "code",
      "source": "## important to remember wht is the significance of normed , it scales the Y axis from 0 to 1 \nplt.hist(data_bening.radius_mean,bins=50,fc=(0,1,0,0.5),label='Bening',normed = False,cumulative = True)",
      "execution_count": null,
      "outputs": []
    },
    {
      "metadata": {
        "_cell_guid": "4ee542b8-b81d-4535-9b0d-221e093fb443",
        "_uuid": "39ad10c5a6fcbbd7ab3d7ac13eb8387af56f5f5c",
        "trusted": false,
        "collapsed": true
      },
      "cell_type": "code",
      "source": "plt.hist(data_bening.radius_mean,bins=50,fc=(0,1,0,0.5),label='Bening',normed = True,cumulative = True)\nsorted_data = np.sort(data_bening.radius_mean)\ny = np.arange(len(sorted_data))/float(len(sorted_data)-1)\nprint(y)\nplt.plot(sorted_data,y,color='red')\nplt.title('CDF of bening tumor radius mean')\nplt.show()\n",
      "execution_count": null,
      "outputs": []
    },
    {
      "metadata": {
        "_cell_guid": "e38e4de0-bbfc-4fa2-9d46-99d08df2c3bd",
        "_uuid": "f4d1b4cd873e5e1075de4d9fbb9f08a9c6b81a36",
        "trusted": false,
        "collapsed": true
      },
      "cell_type": "code",
      "source": "# lets analyse the relationshio between radius_mean and area_mean\nplt.figure(figsize=(6,6))\nplt.scatter(x = 'radius_mean' , y = 'area_mean' , data = train)\nplt.xlabel('radius_mean')\nplt.ylabel('area_mean')",
      "execution_count": null,
      "outputs": []
    },
    {
      "metadata": {
        "_cell_guid": "9a6de5a2-314a-420e-82c8-902e01a84102",
        "_uuid": "20d915a004271e0671c0c9ae33dfa377ce804fb5"
      },
      "cell_type": "markdown",
      "source": "## looks like a positive corelation between radius_mean and area_mean\n## check for normality \n"
    },
    {
      "metadata": {
        "_cell_guid": "58cc2b7b-a048-447f-995c-9d376ba183f6",
        "_uuid": "97c3946eda9f9b951b56031d8c00ec74394406fa",
        "trusted": false,
        "collapsed": true
      },
      "cell_type": "code",
      "source": "from scipy.stats import norm\nfrom scipy import stats\nsns.distplot(train['radius_mean'] , fit = norm);\nfig = plt.figure()\n\nr = stats.probplot(train['radius_mean'] , plot = plt)",
      "execution_count": null,
      "outputs": []
    },
    {
      "metadata": {
        "collapsed": true,
        "_cell_guid": "4d010443-beaa-433a-a121-e5fa36d7663a",
        "_uuid": "613dcd82c2a0a7ce0359e92d6f2050304e6ad1f2",
        "trusted": false
      },
      "cell_type": "code",
      "source": "#positive skewdness\n# log transformation\nimport numpy as np\nlog_radius_mean = np.log(train['radius_mean'])",
      "execution_count": null,
      "outputs": []
    },
    {
      "metadata": {
        "_cell_guid": "0989b5de-1560-45df-81b5-505ed33f336a",
        "_uuid": "4565c3e55cd52e0677ebe64b4803a8e8c6c73c78",
        "trusted": false,
        "collapsed": true
      },
      "cell_type": "code",
      "source": "sns.distplot(log_radius , fit = norm)\nfig = plt.figure()\nt = stats.probplot(log_radius_mean , plot = plt)",
      "execution_count": null,
      "outputs": []
    },
    {
      "metadata": {
        "_cell_guid": "9d05368e-d579-49fe-9d6e-7d6d20e599d6",
        "_uuid": "aa9877a5dda502896a73f81aef336ce498d9e011"
      },
      "cell_type": "markdown",
      "source": "## looks like we fix the skewdness and make it normal \n## next up area_mean\n"
    },
    {
      "metadata": {
        "_cell_guid": "ffef4b6d-17cc-429d-945d-761b30b21d41",
        "_uuid": "17bb97d7f87af857cbb9965f7d589ec21145a443",
        "trusted": false,
        "collapsed": true
      },
      "cell_type": "code",
      "source": "sns.distplot(train['area_mean'] , fit = norm)\nfig = plt.figure()\nc = stats.probplot(train['area_mean'] , plot = plt) ",
      "execution_count": null,
      "outputs": []
    },
    {
      "metadata": {
        "_cell_guid": "ad52b1f7-3856-463f-a7ec-8606d24ec5cc",
        "_uuid": "b92c832ba3432c0700d12b0673e8b1f0341145b5"
      },
      "cell_type": "markdown",
      "source": "## again the skewedness lets appply the log transdformation \n## there are similarites between distplot and histogram "
    },
    {
      "metadata": {
        "_cell_guid": "bbb48cde-b3c8-4820-8951-fc2194d885c2",
        "_uuid": "8116a836c9d713a1fb03b42af58f9ff21ed7fbe4",
        "trusted": false,
        "collapsed": true
      },
      "cell_type": "code",
      "source": "log_area_mean = np.log(train['area_mean'])\nsns.distplot(log_area_mean , fit  = norm)\nfig = plt.figure()\nx = stats.probplot(log_area_mean , plot = plt)",
      "execution_count": null,
      "outputs": []
    },
    {
      "metadata": {
        "_cell_guid": "34dfd87b-51cb-4ea6-be1b-cf789797f13e",
        "_uuid": "7e261ae485a8e448517091789a0747838d9e2a33"
      },
      "cell_type": "markdown",
      "source": "## yes our trick works again ,ok now get some real shit done \n## lets build the joint plot for area_mean and radius_mean and then compare it with thier log transformation "
    },
    {
      "metadata": {
        "_cell_guid": "ad507a4b-3752-4c84-a948-872f7aa2d2f2",
        "_uuid": "ba45f402c5f4f76c51210fd45f6125a2437d7875",
        "trusted": false,
        "collapsed": true
      },
      "cell_type": "code",
      "source": "plt.figure(figsize = (8,6))\nsns.jointplot(train.radius_mean , train.area_mean , kind = 'regg')\nplt.show()",
      "execution_count": null,
      "outputs": []
    },
    {
      "metadata": {
        "_cell_guid": "08df4958-28e8-496b-b75b-3a3facc060ef",
        "_uuid": "ebcebe7cddfb769a3e50019bdf9dd2ad7a1321de",
        "trusted": false,
        "collapsed": true
      },
      "cell_type": "code",
      "source": "## now build for the log transformation \nplt.figure(figsize = (8,6))\nsns.jointplot(log_radius_mean , log_area_mean , kind = 'regg')",
      "execution_count": null,
      "outputs": []
    },
    {
      "metadata": {
        "_cell_guid": "6ea5c96b-de00-427e-9654-cb959e533bad",
        "_uuid": "2bf95a1cf417ecd5abc7e42da4e7662cef009a75"
      },
      "cell_type": "markdown",
      "source": "## solving the problem of the normality automatically solves the problem of homoscedanticity \n### so we have a similar thing as pairplot in seaborn which is pairgrid\n"
    },
    {
      "metadata": {
        "_cell_guid": "50935106-7511-4e8e-8e82-de2c79dedbcc",
        "_uuid": "851b5b7e7e9ba094daa5ffec9d0aae087cf17c48",
        "trusted": false,
        "collapsed": true
      },
      "cell_type": "code",
      "source": "sns.set(style = \"white\")\ndf = train.loc[:,[\"radius_mean\",\"area_mean\",\"fractal_dimension_se\"]]\ng = sns.PairGrid(df,diag_sharey = False,)\ng.map(plt.scatter)\nplt.show()",
      "execution_count": null,
      "outputs": []
    },
    {
      "metadata": {
        "collapsed": true,
        "_cell_guid": "5e03ab4d-58c6-4a5d-894c-21cfa9749d75",
        "_uuid": "2189414d7591ba66c8b81db52273fa61745d7d8b",
        "trusted": false
      },
      "cell_type": "code",
      "source": "",
      "execution_count": null,
      "outputs": []
    },
    {
      "metadata": {
        "collapsed": true,
        "_cell_guid": "09e6a00e-4ddf-4908-8396-7b016c959f5f",
        "_uuid": "6913f64baba103f2a64cf0dd719f46724c99ea12",
        "trusted": false
      },
      "cell_type": "code",
      "source": "",
      "execution_count": null,
      "outputs": []
    },
    {
      "metadata": {
        "collapsed": true,
        "_cell_guid": "1bc9f0e4-b94f-4bdb-a945-d63ec80ffff7",
        "_uuid": "affabb3b9a99f9a82ed2f713e0b61e7b5f124d1d",
        "trusted": false
      },
      "cell_type": "code",
      "source": "",
      "execution_count": null,
      "outputs": []
    },
    {
      "metadata": {
        "collapsed": true,
        "_cell_guid": "4aceb5d1-7935-40b5-9dae-aa9cc2112d0b",
        "_uuid": "40fb89a3fe51109fa92ba6324d52a58c123ede6e",
        "trusted": false
      },
      "cell_type": "code",
      "source": "",
      "execution_count": null,
      "outputs": []
    },
    {
      "metadata": {
        "collapsed": true,
        "_cell_guid": "04f2cd84-37ee-4494-85e3-b3ff77d07359",
        "_uuid": "7ffdea915bdd3a8637d05bb38efc04b61eba99e9",
        "trusted": false
      },
      "cell_type": "code",
      "source": "",
      "execution_count": null,
      "outputs": []
    },
    {
      "metadata": {
        "collapsed": true,
        "_cell_guid": "f9b34c19-6b44-40ff-ad4b-a127daa9b77e",
        "_uuid": "496cd4bedf12382b8a4d9dfc07513dacef3c430f",
        "trusted": false
      },
      "cell_type": "code",
      "source": "",
      "execution_count": null,
      "outputs": []
    },
    {
      "metadata": {
        "collapsed": true,
        "_cell_guid": "6a3c37c3-fc52-4d83-bfd9-c68574634d28",
        "_uuid": "7e1d14addd135ef66fa25adc60492397606d5dfb",
        "trusted": false
      },
      "cell_type": "code",
      "source": "",
      "execution_count": null,
      "outputs": []
    },
    {
      "metadata": {
        "collapsed": true,
        "_cell_guid": "fd7c0ddc-2675-4b19-8195-16b37a43cf76",
        "_uuid": "6bc2794e1e992a14a80842f8c4b9c485bff9fb52",
        "trusted": false
      },
      "cell_type": "code",
      "source": "",
      "execution_count": null,
      "outputs": []
    },
    {
      "metadata": {
        "collapsed": true,
        "_cell_guid": "b339d6a3-b950-4478-946e-597c85076fcd",
        "_uuid": "d00e61206c193ad35f103f6db17c41c8901c7577",
        "trusted": false
      },
      "cell_type": "code",
      "source": "",
      "execution_count": null,
      "outputs": []
    },
    {
      "metadata": {
        "collapsed": true,
        "_cell_guid": "f846e030-cf45-498d-bb1e-071eb75b4e87",
        "_uuid": "867408058589f256715597310d5b4d50c6ddb00a",
        "trusted": false
      },
      "cell_type": "code",
      "source": "",
      "execution_count": null,
      "outputs": []
    },
    {
      "metadata": {
        "collapsed": true,
        "_cell_guid": "91b01fb7-56ce-48f7-863c-9a6644299082",
        "_uuid": "9a07a6d22aaef7b633bb273f252febd6870022c4",
        "trusted": false
      },
      "cell_type": "code",
      "source": "",
      "execution_count": null,
      "outputs": []
    },
    {
      "metadata": {
        "collapsed": true,
        "_cell_guid": "e9d46b96-9bef-48f3-9b15-7425ba31aeed",
        "_uuid": "95a892a8e40650bb8cf9c351e0b56a6a41c87609",
        "trusted": false
      },
      "cell_type": "code",
      "source": "",
      "execution_count": null,
      "outputs": []
    }
  ],
  "metadata": {
    "language_info": {
      "name": "python",
      "version": "3.6.5",
      "mimetype": "text/x-python",
      "codemirror_mode": {
        "name": "ipython",
        "version": 3
      },
      "pygments_lexer": "ipython3",
      "nbconvert_exporter": "python",
      "file_extension": ".py"
    },
    "kernelspec": {
      "display_name": "Python 3",
      "language": "python",
      "name": "python3"
    }
  },
  "nbformat": 4,
  "nbformat_minor": 1
}